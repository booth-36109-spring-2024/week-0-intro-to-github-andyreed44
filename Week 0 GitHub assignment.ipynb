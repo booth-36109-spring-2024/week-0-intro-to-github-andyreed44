{
 "cells": [
  {
   "cell_type": "markdown",
   "id": "e7ad810c-17c1-4fae-a915-040eab9ca0ce",
   "metadata": {},
   "source": [
    "# BUS 36109 Week 0 Assignment\n",
    "\n",
    "Please complete this assignment to demonstrate you're able to use GitHub and the Jupyter Lab cloud server. \n",
    "\n",
    "In the below cells, you should:\n",
    "* Create a Python list and add some data to it (can be integers, floats, strings, or a combination)\n",
    "* Write a print statement that prints out the list\n",
    "* Run the code cells and keep the output displayed when you turn it in (output remains displayed by default, so there should be nothing extra to do there)"
   ]
  },
  {
   "cell_type": "code",
   "execution_count": null,
   "id": "f7551a61-63dd-4012-a527-cc316786b27d",
   "metadata": {},
   "outputs": [],
   "source": [
    " "
   ]
  },
  {
   "cell_type": "code",
   "execution_count": null,
   "id": "514e6100-4f3d-4840-810c-3c0a4936c83a",
   "metadata": {},
   "outputs": [],
   "source": []
  },
  {
   "cell_type": "code",
   "execution_count": null,
   "id": "821cc8fb-12e8-4c11-9d86-fbc54078c110",
   "metadata": {},
   "outputs": [],
   "source": []
  }
 ],
 "metadata": {
  "kernelspec": {
   "display_name": "Python 3 (ipykernel)",
   "language": "python",
   "name": "python3"
  },
  "language_info": {
   "codemirror_mode": {
    "name": "ipython",
    "version": 3
   },
   "file_extension": ".py",
   "mimetype": "text/x-python",
   "name": "python",
   "nbconvert_exporter": "python",
   "pygments_lexer": "ipython3",
   "version": "3.10.9"
  }
 },
 "nbformat": 4,
 "nbformat_minor": 5
}
